{
 "cells": [
  {
   "cell_type": "code",
   "execution_count": 1,
   "metadata": {},
   "outputs": [],
   "source": [
    "import pandas as pd\n",
    "pd.set_option('display.max_colwidth', 0) #To display entire text content of a column\n",
    "import numpy as np\n",
    "import seaborn as sns\n",
    "import matplotlib.pyplot as plt\n",
    "import os\n",
    "import pickle\n",
    "import joblib as joblib\n",
    "import twint\n",
    "import nest_asyncio\n",
    "import spacy\n",
    "import datetime as dt\n",
    "from sklearn.decomposition import LatentDirichletAllocation\n",
    "from sklearn.feature_extraction.text import CountVectorizer, TfidfVectorizer\n",
    "from nltk.corpus import stopwords"
   ]
  },
  {
   "cell_type": "code",
   "execution_count": 2,
   "metadata": {},
   "outputs": [],
   "source": [
    "#Read csv\n",
    "tweets_df_ottawa_master =pd.read_csv('D:\\\\capstone_data\\\\tweets_data\\\\ottawa_25rt_filter.csv')"
   ]
  },
  {
   "cell_type": "code",
   "execution_count": 3,
   "metadata": {},
   "outputs": [
    {
     "data": {
      "text/plain": [
       "(9661, 38)"
      ]
     },
     "metadata": {},
     "output_type": "display_data"
    },
    {
     "data": {
      "text/html": [
       "<div>\n",
       "<style scoped>\n",
       "    .dataframe tbody tr th:only-of-type {\n",
       "        vertical-align: middle;\n",
       "    }\n",
       "\n",
       "    .dataframe tbody tr th {\n",
       "        vertical-align: top;\n",
       "    }\n",
       "\n",
       "    .dataframe thead th {\n",
       "        text-align: right;\n",
       "    }\n",
       "</style>\n",
       "<table border=\"1\" class=\"dataframe\">\n",
       "  <thead>\n",
       "    <tr style=\"text-align: right;\">\n",
       "      <th></th>\n",
       "      <th>cashtags</th>\n",
       "      <th>conversation_id</th>\n",
       "      <th>created_at</th>\n",
       "      <th>date</th>\n",
       "      <th>day</th>\n",
       "      <th>geo</th>\n",
       "      <th>hashtags</th>\n",
       "      <th>hour</th>\n",
       "      <th>id</th>\n",
       "      <th>language</th>\n",
       "      <th>...</th>\n",
       "      <th>trans_src</th>\n",
       "      <th>translate</th>\n",
       "      <th>tweet</th>\n",
       "      <th>urls</th>\n",
       "      <th>user_id</th>\n",
       "      <th>user_id_str</th>\n",
       "      <th>user_rt</th>\n",
       "      <th>user_rt_id</th>\n",
       "      <th>username</th>\n",
       "      <th>video</th>\n",
       "    </tr>\n",
       "  </thead>\n",
       "  <tbody>\n",
       "    <tr>\n",
       "      <th>9660</th>\n",
       "      <td>[]</td>\n",
       "      <td>1067897737411063809</td>\n",
       "      <td>1.543442e+12</td>\n",
       "      <td>2018-11-28 16:47:15</td>\n",
       "      <td>3</td>\n",
       "      <td>45.2502975,-76.0804344,40km</td>\n",
       "      <td>['cdnpoli']</td>\n",
       "      <td>16</td>\n",
       "      <td>1067897737411063809</td>\n",
       "      <td>en</td>\n",
       "      <td>...</td>\n",
       "      <td>NaN</td>\n",
       "      <td>NaN</td>\n",
       "      <td>ICYMI, I did the literal 20 minutes of homework that CBC didn’t for their interview with Rona Ambrose on the problems with her bill.  https://t.co/7gSbRsu825 #cdnpoli</td>\n",
       "      <td>['http://www.routineproceedings.com/2018/11/28/roundup-a-noble-bill-with-problems-below-the-surface/']</td>\n",
       "      <td>190012537</td>\n",
       "      <td>190012537</td>\n",
       "      <td>NaN</td>\n",
       "      <td>NaN</td>\n",
       "      <td>journo_dale</td>\n",
       "      <td>0</td>\n",
       "    </tr>\n",
       "  </tbody>\n",
       "</table>\n",
       "<p>1 rows × 38 columns</p>\n",
       "</div>"
      ],
      "text/plain": [
       "     cashtags      conversation_id    created_at                 date  day  \\\n",
       "9660  []       1067897737411063809  1.543442e+12  2018-11-28 16:47:15  3     \n",
       "\n",
       "                              geo     hashtags  hour                   id  \\\n",
       "9660  45.2502975,-76.0804344,40km  ['cdnpoli']  16    1067897737411063809   \n",
       "\n",
       "     language  ...  trans_src translate  \\\n",
       "9660  en       ...  NaN       NaN         \n",
       "\n",
       "                                                                                                                                                                       tweet  \\\n",
       "9660  ICYMI, I did the literal 20 minutes of homework that CBC didn’t for their interview with Rona Ambrose on the problems with her bill.  https://t.co/7gSbRsu825 #cdnpoli   \n",
       "\n",
       "                                                                                                        urls  \\\n",
       "9660  ['http://www.routineproceedings.com/2018/11/28/roundup-a-noble-bill-with-problems-below-the-surface/']   \n",
       "\n",
       "        user_id  user_id_str user_rt user_rt_id     username video  \n",
       "9660  190012537  190012537   NaN     NaN         journo_dale  0     \n",
       "\n",
       "[1 rows x 38 columns]"
      ]
     },
     "metadata": {},
     "output_type": "display_data"
    }
   ],
   "source": [
    "#Verify\n",
    "display(tweets_df_ottawa_master.shape)\n",
    "display(tweets_df_ottawa_master.tail(1))"
   ]
  },
  {
   "cell_type": "markdown",
   "metadata": {},
   "source": []
  }
 ],
 "metadata": {
  "kernelspec": {
   "display_name": "Python 3",
   "language": "python",
   "name": "python3"
  },
  "language_info": {
   "codemirror_mode": {
    "name": "ipython",
    "version": 3
   },
   "file_extension": ".py",
   "mimetype": "text/x-python",
   "name": "python",
   "nbconvert_exporter": "python",
   "pygments_lexer": "ipython3",
   "version": "3.7.0"
  },
  "toc": {
   "base_numbering": 1,
   "nav_menu": {},
   "number_sections": true,
   "sideBar": true,
   "skip_h1_title": false,
   "title_cell": "Table of Contents",
   "title_sidebar": "Contents",
   "toc_cell": false,
   "toc_position": {},
   "toc_section_display": true,
   "toc_window_display": false
  }
 },
 "nbformat": 4,
 "nbformat_minor": 2
}
